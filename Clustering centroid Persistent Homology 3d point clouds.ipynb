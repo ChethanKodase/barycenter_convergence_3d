{
 "cells": [
  {
   "cell_type": "code",
   "execution_count": 1,
   "id": "b1e49ed3",
   "metadata": {},
   "outputs": [],
   "source": [
    "import sympy as sp\n",
    "import minterpy as mp\n",
    "import numpy as np\n",
    "from minterpy.pointcloud_utils import *\n",
    "\n",
    "from mpl_toolkits import mplot3d\n",
    "%matplotlib inline\n",
    "\n",
    "from mpl_toolkits.mplot3d import axes3d\n",
    "\n",
    "import torch\n",
    "import torchvision\n",
    "from torchvision import transforms, datasets\n",
    "\n",
    "import random\n",
    "import numpy as np\n",
    "import matplotlib.pyplot as plt\n",
    "\n",
    "import os\n",
    "from operator import itemgetter\n",
    "\n",
    "device = torch.device('cuda' if torch.cuda.is_available() else 'cpu')\n",
    "\n",
    "import ot\n",
    "\n",
    "from sklearn.neighbors import NearestNeighbors\n",
    "\n",
    "import ripser\n",
    "import persim\n",
    "from persim import plot_diagrams\n",
    "\n",
    "from operator import itemgetter\n",
    "\n",
    "\n",
    "#do pip installs as follows to use vedo for plotting point clouds\n",
    "#pip install vedo\n",
    "#pip install ipyvtklink\n",
    "\n",
    "import numpy as np\n",
    "from vedo import *\n",
    "\n",
    "import matplotlib.pyplot\n",
    "from mpl_toolkits.mplot3d import Axes3D"
   ]
  },
  {
   "cell_type": "code",
   "execution_count": 2,
   "id": "f9a769b7",
   "metadata": {},
   "outputs": [],
   "source": [
    "def random_sampling_from_pt_cloud(point_cloud, req_sample_size):\n",
    "    \n",
    "    point_cloud = torch.tensor(point_cloud)\n",
    "\n",
    "    idx = np.random.randint(point_cloud.shape[0], size=req_sample_size)\n",
    "\n",
    "    random_Sampled_point_cloud = point_cloud[idx,:]\n",
    "\n",
    "    return random_Sampled_point_cloud\n",
    "\n",
    "def centeroidnp(arr):\n",
    "    length = arr.shape[0]\n",
    "    sum_x = np.sum(arr[:, 0])\n",
    "    sum_y = np.sum(arr[:, 1])\n",
    "    sum_z = np.sum(arr[:, 2])\n",
    "    return sum_x/length, sum_y/length, sum_z/length\n",
    "\n",
    "def get_clustered_batches(point_cloud, num_batches, n_neighbors_e):\n",
    "    nbrs = NearestNeighbors(n_neighbors=n_neighbors_e, algorithm='ball_tree').fit(point_cloud)\n",
    "    distances, indices = nbrs.kneighbors(point_cloud)\n",
    "\n",
    "    random_Sampled_clusters = random_sampling_from_pt_cloud(indices, num_batches)\n",
    "    \n",
    "    any_clustered_data = point_cloud[random_Sampled_clusters]\n",
    "    \n",
    "    \n",
    "    return distances, indices, any_clustered_data\n",
    "\n",
    "\n",
    "\n",
    "##for 6d point clouds\n",
    "\n",
    "def centeroidnp_6d(arr):\n",
    "    length = arr.shape[0]\n",
    "    sum_x = np.sum(arr[:, 0])\n",
    "    sum_y = np.sum(arr[:, 1])\n",
    "    sum_z = np.sum(arr[:, 2])\n",
    "    sum_u = np.sum(arr[:, 3])\n",
    "    sum_v = np.sum(arr[:, 4])\n",
    "    sum_w = np.sum(arr[:, 5])\n",
    "    return sum_x/length, sum_y/length, sum_z/length, sum_u/length, sum_v/length, sum_w/length \n",
    "\n",
    "def get_clustered_batches_6d(point_cloud, num_batches, n_neighbors_e):\n",
    "    nbrs = NearestNeighbors(n_neighbors=n_neighbors_e, algorithm='ball_tree').fit(point_cloud)\n",
    "    distances, indices = nbrs.kneighbors(point_cloud)\n",
    "\n",
    "    random_Sampled_clusters = random_sampling_from_pt_cloud(indices, num_batches)\n",
    "    \n",
    "    any_clustered_data = point_cloud[random_Sampled_clusters]\n",
    "    \n",
    "    \n",
    "    return distances, indices, any_clustered_data\n",
    "\n",
    "\n",
    "def get_set_of_barycenters_6d(any_clustered_data):\n",
    "    \n",
    "    \n",
    "    barycenter_set = np.array([])\n",
    "\n",
    "    for i in range(any_clustered_data.shape[0]):\n",
    "\n",
    "        baryctenter = centeroidnp_6d(any_clustered_data[i])\n",
    "\n",
    "        barycenter_set = np.concatenate((barycenter_set,baryctenter), axis = 0)\n",
    "\n",
    "    \n",
    "    barycenter_set = barycenter_set.reshape(int(barycenter_set.shape[0]/any_clustered_data.shape[2]), any_clustered_data.shape[2])\n",
    "    \n",
    "    return barycenter_set\n",
    "\n",
    "\n",
    "#find barycenter for every batch\n",
    "def get_set_of_barycenters(any_clustered_data):\n",
    "    \n",
    "    \n",
    "    barycenter_set = np.array([])\n",
    "\n",
    "    for i in range(any_clustered_data.shape[0]):\n",
    "\n",
    "        baryctenter = centeroidnp(any_clustered_data[i])\n",
    "\n",
    "        barycenter_set = np.concatenate((barycenter_set,baryctenter), axis = 0)\n",
    "\n",
    "    \n",
    "    barycenter_set = barycenter_set.reshape(int(barycenter_set.shape[0]/any_clustered_data.shape[2]), any_clustered_data.shape[2])\n",
    "    \n",
    "    return barycenter_set\n",
    "    \n",
    "    \n",
    "def _compute_distance_matrix(x, p=2):\n",
    "    x_flat = x.view(x.size(0), -1)\n",
    "\n",
    "    distances = torch.norm(x_flat[:, None] - x_flat, dim=2, p=p)\n",
    "\n",
    "    return distances\n",
    "\n",
    "def get_persistence_diagram(point_cloud, maximum_dim):\n",
    "\n",
    "    point_cloud = torch.tensor(point_cloud)\n",
    "\n",
    "    dist_matrix = _compute_distance_matrix(point_cloud, p=2)\n",
    "    diagrams = ripser.ripser(dist_matrix.cpu().detach().numpy(), distance_matrix=True, maxdim=maximum_dim)['dgms']\n",
    "    return diagrams, plot_diagrams(diagrams, show=True)\n",
    "\n",
    "\n",
    "def give_centeroid(arr):\n",
    "    length = arr.shape[0]\n",
    "    sum_x = np.sum(arr[:, 0])\n",
    "    sum_y = np.sum(arr[:, 1])\n",
    "    sum_z = np.sum(arr[:, 2])\n",
    "    return np.array([[sum_x/length, sum_y/length, sum_z/length]])\n",
    "\n",
    "def give_next_neighbours_barycenter_indices(batch_x, input_barycenter, remaining_indices, num_neighbours):\n",
    "  wasserDistance = []\n",
    "  distance_cum_index = np.array([])\n",
    "\n",
    "  for j in remaining_indices:\n",
    "    \n",
    "    wassDistance = dist = np.linalg.norm(batch_x[j]-input_barycenter)\n",
    "\n",
    "    \n",
    "    distance_cum_index = np.concatenate((distance_cum_index, np.array([wassDistance, j])), axis = 0)\n",
    "   \n",
    "  distance_cum_index = distance_cum_index.reshape(int(distance_cum_index.shape[0]/2), 2)\n",
    "  distance_cum_index = sorted(distance_cum_index, key=itemgetter(0))\n",
    "  \n",
    "  distance_cum_index = np.array(distance_cum_index)\n",
    "  \n",
    "  remaining_indices = distance_cum_index[:,1]\n",
    "\n",
    "  remaining_indices = remaining_indices.astype(int)\n",
    "  \n",
    "    \n",
    "  A = np.array([])\n",
    "  for i in range(num_neighbours):\n",
    "    if(i >= distance_cum_index[:,1].shape[0]):\n",
    "        break\n",
    "    A = np.concatenate((A, batch_x[int(distance_cum_index[:,1][i])]), axis = 0 )\n",
    "  \n",
    "  A = A.reshape(int(A.shape[0]/3) , 3)\n",
    "\n",
    "  next_barycenter = give_centeroid(A) \n",
    "  \n",
    "  next_barycenter = np.array(next_barycenter)\n",
    "  #print(next_barycenter.shape)\n",
    "  next_barycenter = next_barycenter.reshape(next_barycenter.shape[0]* next_barycenter.shape[1])\n",
    "  #print(next_barycenter.shape)  \n",
    "  return A, next_barycenter, remaining_indices\n",
    "\n",
    "\n",
    "def get_convergent_barycenters(point_cloud, no_neighbours, initial_pt):    \n",
    "    bary = initial_pt\n",
    "    rem_indices = np.array(range(0,point_cloud.shape[0]))\n",
    "    #print(\"Size of batch : \", point_cloud.shape[0])\n",
    "    sampled_barycenters = np.array([])\n",
    "    sampled_barycenters = torch.tensor(sampled_barycenters)\n",
    "    covered_indices = np.array([])\n",
    "\n",
    "    for i in range(int(point_cloud.shape[0])):\n",
    "\n",
    "        if(len(rem_indices) < 2):\n",
    "            #print(\"END\")\n",
    "            break\n",
    "\n",
    "        #print(\"Iteration number : \", i+1)\n",
    "        #print(\"Input barycenter : \")\n",
    "\n",
    "\n",
    "        old_bary = bary\n",
    "\n",
    "\n",
    "\n",
    "        neighbours, bary, rem_indices = give_next_neighbours_barycenter_indices(point_cloud, bary, rem_indices, no_neighbours)\n",
    "\n",
    "\n",
    "\n",
    "        wassDistance = np.linalg.norm(old_bary - bary)  \n",
    "\n",
    "        covered_indices = np.concatenate((covered_indices, rem_indices[:4] ) ,axis = 0)\n",
    "\n",
    "\n",
    "        #print(\"Tracking distance between new barycenter and previous barycenter : \",wassDistance )\n",
    "        if(wassDistance == 0.0):\n",
    "\n",
    "            unique_covered_indices = np.unique(covered_indices, axis=0)\n",
    "            sampled_barycenters = torch.cat((sampled_barycenters, torch.tensor(bary)), 0)\n",
    "\n",
    "            s1 = set(rem_indices)\n",
    "            s2 = set(unique_covered_indices)\n",
    "            rem_set = s1 - s2\n",
    "            rem_inds = list(rem_set)\n",
    "            rem_indices = rem_set\n",
    "            #print(\"Sampled barycenters are\")\n",
    "            #print(sampled_barycenters)\n",
    "    sampled_barycenters = sampled_barycenters.reshape(int((sampled_barycenters.shape[0]/3)),3)\n",
    "    \n",
    "    return sampled_barycenters\n",
    "\n"
   ]
  },
  {
   "cell_type": "markdown",
   "id": "a24dfdab",
   "metadata": {},
   "source": [
    "## Sphere in 3D"
   ]
  },
  {
   "cell_type": "code",
   "execution_count": 3,
   "id": "732e69f7",
   "metadata": {},
   "outputs": [],
   "source": [
    "x, y, z = sp.symbols('x y z')\n",
    "expr = x**2 + y**2 + z**2 - 1\n",
    "poly = sp.Poly(expr, x, y, z)"
   ]
  },
  {
   "cell_type": "code",
   "execution_count": 4,
   "id": "d0605998",
   "metadata": {},
   "outputs": [
    {
     "data": {
      "text/latex": [
       "$\\displaystyle x^{2} + y^{2} + z^{2} - 1$"
      ],
      "text/plain": [
       "x**2 + y**2 + z**2 - 1"
      ]
     },
     "execution_count": 4,
     "metadata": {},
     "output_type": "execute_result"
    }
   ],
   "source": [
    "expr"
   ]
  },
  {
   "cell_type": "code",
   "execution_count": 5,
   "id": "514d6bfb",
   "metadata": {},
   "outputs": [],
   "source": [
    "# convert sympy polynomial to minyterpy polynomial\n",
    "newt_poly = sympy_to_mp(poly, mp.NewtonPolynomial)"
   ]
  },
  {
   "cell_type": "code",
   "execution_count": 6,
   "id": "1e63003f",
   "metadata": {},
   "outputs": [],
   "source": [
    "#sample points\n",
    "point_data = sample_points_on_poly(10000,        # Number of points to be sampled\n",
    "                                   newt_poly,  # Polynomial in Newton basis\n",
    "                                   bounds=1, # Boundary of the Cubic domain to be sampled\n",
    "                                   tol=1e-15)  # Tolerance in solution"
   ]
  },
  {
   "cell_type": "code",
   "execution_count": 7,
   "id": "2088888c",
   "metadata": {},
   "outputs": [
    {
     "data": {
      "text/plain": [
       "(10000, 3)"
      ]
     },
     "execution_count": 7,
     "metadata": {},
     "output_type": "execute_result"
    }
   ],
   "source": [
    "point_data.shape"
   ]
  },
  {
   "cell_type": "markdown",
   "id": "deb752e4",
   "metadata": {},
   "source": [
    "### Unclustered point cloud"
   ]
  },
  {
   "cell_type": "code",
   "execution_count": 8,
   "id": "df0025ed",
   "metadata": {},
   "outputs": [
    {
     "data": {
      "application/vnd.jupyter.widget-view+json": {
       "model_id": "b8b81907dce04f8e9237f634a2bb73a8",
       "version_major": 2,
       "version_minor": 0
      },
      "text/plain": [
       "ViewInteractiveWidget(height=960, layout=Layout(height='auto', width='100%'), width=960)"
      ]
     },
     "metadata": {},
     "output_type": "display_data"
    }
   ],
   "source": [
    "\n",
    "x_so = point_data[:,0]\n",
    "\n",
    "y_so = point_data[:,1]\n",
    "\n",
    "z_so = point_data[:,2]\n",
    "\n",
    "\n",
    "plot_points = [x_so,y_so,z_so]\n",
    "Points(plot_points).show(axes=1)"
   ]
  },
  {
   "cell_type": "markdown",
   "id": "2cb3659f",
   "metadata": {},
   "source": [
    "### Clustering of point cloud"
   ]
  },
  {
   "cell_type": "code",
   "execution_count": 9,
   "id": "7f4b0451",
   "metadata": {},
   "outputs": [],
   "source": [
    "_, _, clusters = get_clustered_batches(point_data, 50,20)"
   ]
  },
  {
   "cell_type": "code",
   "execution_count": 10,
   "id": "7beb683b",
   "metadata": {},
   "outputs": [
    {
     "data": {
      "text/plain": [
       "(50, 20, 3)"
      ]
     },
     "execution_count": 10,
     "metadata": {},
     "output_type": "execute_result"
    }
   ],
   "source": [
    "clusters.shape"
   ]
  },
  {
   "cell_type": "markdown",
   "id": "79409904",
   "metadata": {},
   "source": [
    "### Visualising clusters formation (just illustration)\n"
   ]
  },
  {
   "cell_type": "code",
   "execution_count": 11,
   "id": "8eef0d3c",
   "metadata": {},
   "outputs": [
    {
     "name": "stdout",
     "output_type": "stream",
     "text": [
      "(1000, 3)\n"
     ]
    },
    {
     "data": {
      "application/vnd.jupyter.widget-view+json": {
       "model_id": "c0aac1e995c5491bbabe8e9139b6d170",
       "version_major": 2,
       "version_minor": 0
      },
      "text/plain": [
       "ViewInteractiveWidget(height=960, layout=Layout(height='auto', width='100%'), width=960)"
      ]
     },
     "metadata": {},
     "output_type": "display_data"
    }
   ],
   "source": [
    "\n",
    "clusters_mix = clusters.reshape(clusters.shape[0]*clusters.shape[1],3)\n",
    "\n",
    "print(clusters_mix.shape)\n",
    "\n",
    "\n",
    "x_s = clusters_mix[:,0]\n",
    "\n",
    "y_s = clusters_mix[:,1]\n",
    "\n",
    "z_s = clusters_mix[:,2]\n",
    "\n",
    "\n",
    "\n",
    "plot_points = [x_s,y_s,z_s]\n",
    "Points(plot_points).show(axes=1)\n"
   ]
  },
  {
   "cell_type": "markdown",
   "id": "8bc8c583",
   "metadata": {},
   "source": [
    "### Centroids Calculation for clusters on sphere\n"
   ]
  },
  {
   "cell_type": "code",
   "execution_count": 12,
   "id": "fbf95ee1",
   "metadata": {},
   "outputs": [],
   "source": [
    "distances, indices, clustered_data = get_clustered_batches(point_data, 200,100)"
   ]
  },
  {
   "cell_type": "code",
   "execution_count": 13,
   "id": "4525f1f3",
   "metadata": {},
   "outputs": [
    {
     "data": {
      "text/plain": [
       "(200, 100, 3)"
      ]
     },
     "execution_count": 13,
     "metadata": {},
     "output_type": "execute_result"
    }
   ],
   "source": [
    "clustered_data.shape"
   ]
  },
  {
   "cell_type": "code",
   "execution_count": 14,
   "id": "49c64fbd",
   "metadata": {},
   "outputs": [],
   "source": [
    "set_of_barycenters = get_set_of_barycenters(clustered_data)"
   ]
  },
  {
   "cell_type": "code",
   "execution_count": 15,
   "id": "6907d147",
   "metadata": {},
   "outputs": [
    {
     "data": {
      "text/plain": [
       "(200, 3)"
      ]
     },
     "execution_count": 15,
     "metadata": {},
     "output_type": "execute_result"
    }
   ],
   "source": [
    "set_of_barycenters.shape"
   ]
  },
  {
   "cell_type": "code",
   "execution_count": 16,
   "id": "0612238e",
   "metadata": {},
   "outputs": [
    {
     "data": {
      "application/vnd.jupyter.widget-view+json": {
       "model_id": "ccf01b4729aa491aa7fea19a697700c3",
       "version_major": 2,
       "version_minor": 0
      },
      "text/plain": [
       "ViewInteractiveWidget(height=960, layout=Layout(height='auto', width='100%'), width=960)"
      ]
     },
     "metadata": {},
     "output_type": "display_data"
    }
   ],
   "source": [
    "x_b = set_of_barycenters[:,0]\n",
    "\n",
    "y_b = set_of_barycenters[:,1]\n",
    "\n",
    "z_b = set_of_barycenters[:,2]\n",
    "\n",
    "\n",
    "\n",
    "plot_points = [x_b,y_b,z_b]\n",
    "Points(plot_points).show(axes=1)"
   ]
  },
  {
   "cell_type": "markdown",
   "id": "f74d25d2",
   "metadata": {},
   "source": [
    "### Persistent homology of barycenters: Sphere"
   ]
  },
  {
   "cell_type": "code",
   "execution_count": 17,
   "id": "43cc576d",
   "metadata": {},
   "outputs": [
    {
     "data": {
      "image/png": "[encoded data removed]",
      "text/plain": [
       "<Figure size 432x288 with 1 Axes>"
      ]
     },
     "metadata": {
      "needs_background": "light"
     },
     "output_type": "display_data"
    }
   ],
   "source": [
    "_,PH_diagram_barycenters = get_persistence_diagram(set_of_barycenters,2)"
   ]
  },
  {
   "cell_type": "markdown",
   "id": "02836538",
   "metadata": {},
   "source": [
    "### comparision of Persistent homology with same number of random points from the spherical point cloud"
   ]
  },
  {
   "cell_type": "code",
   "execution_count": 18,
   "id": "394697ca",
   "metadata": {},
   "outputs": [],
   "source": [
    "random_pts = random_sampling_from_pt_cloud(point_data, 200)"
   ]
  },
  {
   "cell_type": "code",
   "execution_count": 19,
   "id": "27eb2264",
   "metadata": {},
   "outputs": [
    {
     "name": "stderr",
     "output_type": "stream",
     "text": [
      "/tmp/ipykernel_9757/1819769148.py:99: UserWarning: To copy construct from a tensor, it is recommended to use sourceTensor.clone().detach() or sourceTensor.clone().detach().requires_grad_(True), rather than torch.tensor(sourceTensor).\n",
      "  point_cloud = torch.tensor(point_cloud)\n"
     ]
    },
    {
     "data": {
      "image/png": "[encoded data removed]",
      "text/plain": [
       "<Figure size 640x480 with 1 Axes>"
      ]
     },
     "metadata": {},
     "output_type": "display_data"
    }
   ],
   "source": [
    "cur_diag, PH_diagram_rand_pts = get_persistence_diagram(random_pts, 2)"
   ]
  },
  {
   "cell_type": "code",
   "execution_count": null,
   "id": "9c5659e8",
   "metadata": {},
   "outputs": [],
   "source": []
  },
  {
   "cell_type": "markdown",
   "id": "8986c97e",
   "metadata": {},
   "source": [
    "# Torus in 3D"
   ]
  },
  {
   "cell_type": "code",
   "execution_count": 20,
   "id": "d53d490f",
   "metadata": {},
   "outputs": [],
   "source": [
    "## Torus\n",
    "R = 1.5\n",
    "r = 0.7\n",
    "expr_torus = (x**2 + y**2 + z**2 + R**2 - r**2)**2 - 4*R**2*(x**2 + y**2)\n"
   ]
  },
  {
   "cell_type": "code",
   "execution_count": 21,
   "id": "b6fe92fd",
   "metadata": {},
   "outputs": [
    {
     "data": {
      "text/latex": [
       "$\\displaystyle - 9.0 x^{2} - 9.0 y^{2} + 3.0976 \\left(0.568181818181818 x^{2} + 0.568181818181818 y^{2} + 0.568181818181818 z^{2} + 1\\right)^{2}$"
      ],
      "text/plain": [
       "-9.0*x**2 - 9.0*y**2 + 3.0976*(0.568181818181818*x**2 + 0.568181818181818*y**2 + 0.568181818181818*z**2 + 1)**2"
      ]
     },
     "execution_count": 21,
     "metadata": {},
     "output_type": "execute_result"
    }
   ],
   "source": [
    "expr_torus"
   ]
  },
  {
   "cell_type": "code",
   "execution_count": 22,
   "id": "68370cc6",
   "metadata": {},
   "outputs": [],
   "source": [
    "poly_torus = sp.Poly(expr_torus, x, y, z)"
   ]
  },
  {
   "cell_type": "code",
   "execution_count": 23,
   "id": "83cc969e",
   "metadata": {},
   "outputs": [
    {
     "data": {
      "text/latex": [
       "$\\displaystyle 1.0 x^{4} + 2.0 x^{2} y^{2} + 2.0 x^{2} z^{2} - 5.48 x^{2} + 1.0 y^{4} + 2.0 y^{2} z^{2} - 5.48 y^{2} + 1.0 z^{4} + 3.52 z^{2} + 3.0976$"
      ],
      "text/plain": [
       "1.0*x**4 + 2.0*x**2*y**2 + 2.0*x**2*z**2 - 5.48*x**2 + 1.0*y**4 + 2.0*y**2*z**2 - 5.48*y**2 + 1.0*z**4 + 3.52*z**2 + 3.0976"
      ]
     },
     "execution_count": 23,
     "metadata": {},
     "output_type": "execute_result"
    }
   ],
   "source": [
    "sp.expand(expr_torus)"
   ]
  },
  {
   "cell_type": "code",
   "execution_count": 24,
   "id": "f3e334d5",
   "metadata": {},
   "outputs": [],
   "source": [
    "#Convert sympy polynomial to minterpy polynomial\n",
    "\n",
    "newt_poly_torus = sympy_to_mp(poly_torus, mp.NewtonPolynomial)"
   ]
  },
  {
   "cell_type": "code",
   "execution_count": 25,
   "id": "f0b48890",
   "metadata": {},
   "outputs": [],
   "source": [
    "#Sample points on the zero isocontour\n",
    "\n",
    "point_data_torus = sample_points_on_poly(10000,        # Number of points to be sampled\n",
    "                                   newt_poly_torus,  # Polynomial in Newton basis\n",
    "                                   bounds=3.0, # Boundary of the Cubic domain to be sampled\n",
    "                                   tol=1e-15)  # Tolerance in solution"
   ]
  },
  {
   "cell_type": "code",
   "execution_count": 26,
   "id": "42761f5d",
   "metadata": {},
   "outputs": [
    {
     "data": {
      "text/plain": [
       "(10000, 3)"
      ]
     },
     "execution_count": 26,
     "metadata": {},
     "output_type": "execute_result"
    }
   ],
   "source": [
    "point_data_torus.shape"
   ]
  },
  {
   "cell_type": "code",
   "execution_count": 27,
   "id": "b476a28c",
   "metadata": {},
   "outputs": [
    {
     "data": {
      "application/vnd.jupyter.widget-view+json": {
       "model_id": "f7a3859251a544fd9f69ad8d11ebbcf5",
       "version_major": 2,
       "version_minor": 0
      },
      "text/plain": [
       "ViewInteractiveWidget(height=960, layout=Layout(height='auto', width='100%'), width=960)"
      ]
     },
     "metadata": {},
     "output_type": "display_data"
    }
   ],
   "source": [
    "x_t = point_data_torus[:,0]\n",
    "y_t = point_data_torus[:,1]\n",
    "z_t = point_data_torus[:,2]\n",
    "\n",
    "\n",
    "plot_points = [x_t,y_t,z_t]\n",
    "Points(plot_points).show(axes=1)"
   ]
  },
  {
   "cell_type": "markdown",
   "id": "a38343c8",
   "metadata": {},
   "source": [
    "### Visualising torus cluster formation"
   ]
  },
  {
   "cell_type": "code",
   "execution_count": 28,
   "id": "e7334981",
   "metadata": {},
   "outputs": [],
   "source": [
    "_, _, clusters_on_torus = get_clustered_batches(point_data_torus, 100,50)"
   ]
  },
  {
   "cell_type": "code",
   "execution_count": 29,
   "id": "7f7338c4",
   "metadata": {},
   "outputs": [
    {
     "data": {
      "text/plain": [
       "(100, 50, 3)"
      ]
     },
     "execution_count": 29,
     "metadata": {},
     "output_type": "execute_result"
    }
   ],
   "source": [
    "clusters_on_torus.shape"
   ]
  },
  {
   "cell_type": "code",
   "execution_count": 30,
   "id": "0d14322d",
   "metadata": {},
   "outputs": [
    {
     "data": {
      "application/vnd.jupyter.widget-view+json": {
       "model_id": "f60dc92314144ea584c58367165abe5a",
       "version_major": 2,
       "version_minor": 0
      },
      "text/plain": [
       "ViewInteractiveWidget(height=960, layout=Layout(height='auto', width='100%'), width=960)"
      ]
     },
     "metadata": {},
     "output_type": "display_data"
    }
   ],
   "source": [
    "\n",
    "clusters_mix_tor = clusters_on_torus.reshape(clusters_on_torus.shape[0]*clusters_on_torus.shape[1],3)\n",
    "\n",
    "\n",
    "\n",
    "x_t = clusters_mix_tor[:,0]\n",
    "\n",
    "y_t = clusters_mix_tor[:,1]\n",
    "\n",
    "z_t = clusters_mix_tor[:,2]\n",
    "\n",
    "\n",
    "\n",
    "plot_points = [x_t,y_t,z_t]\n",
    "Points(plot_points).show(axes=1)\n"
   ]
  },
  {
   "cell_type": "markdown",
   "id": "f2e9a886",
   "metadata": {},
   "source": [
    "### Torus Centroids of clusters"
   ]
  },
  {
   "cell_type": "code",
   "execution_count": 31,
   "id": "23fc5860",
   "metadata": {},
   "outputs": [],
   "source": [
    "_, _, clustered_data_torus = get_clustered_batches(point_data_torus, 1000,100)"
   ]
  },
  {
   "cell_type": "code",
   "execution_count": 32,
   "id": "bde9c11d",
   "metadata": {},
   "outputs": [
    {
     "data": {
      "text/plain": [
       "(1000, 100, 3)"
      ]
     },
     "execution_count": 32,
     "metadata": {},
     "output_type": "execute_result"
    }
   ],
   "source": [
    "clustered_data_torus.shape"
   ]
  },
  {
   "cell_type": "code",
   "execution_count": 33,
   "id": "e9eefac9",
   "metadata": {},
   "outputs": [],
   "source": [
    "set_of_centroids_torus = get_set_of_barycenters(clustered_data_torus)"
   ]
  },
  {
   "cell_type": "code",
   "execution_count": 34,
   "id": "3c439eb3",
   "metadata": {},
   "outputs": [
    {
     "data": {
      "text/plain": [
       "(1000, 3)"
      ]
     },
     "execution_count": 34,
     "metadata": {},
     "output_type": "execute_result"
    }
   ],
   "source": [
    "set_of_centroids_torus.shape\n"
   ]
  },
  {
   "cell_type": "code",
   "execution_count": 35,
   "id": "a4ee6974",
   "metadata": {},
   "outputs": [
    {
     "data": {
      "application/vnd.jupyter.widget-view+json": {
       "model_id": "c4113a8b29d0401dbf26b529f550b627",
       "version_major": 2,
       "version_minor": 0
      },
      "text/plain": [
       "ViewInteractiveWidget(height=960, layout=Layout(height='auto', width='100%'), width=960)"
      ]
     },
     "metadata": {},
     "output_type": "display_data"
    }
   ],
   "source": [
    "x_tb = set_of_centroids_torus[:,0]\n",
    "\n",
    "y_tb = set_of_centroids_torus[:,1]\n",
    "\n",
    "z_tb = set_of_centroids_torus[:,2]\n",
    "\n",
    "\n",
    "\n",
    "plot_points = [x_tb,y_tb,z_tb]\n",
    "Points(plot_points).show(axes=1)\n"
   ]
  },
  {
   "cell_type": "markdown",
   "id": "48efe163",
   "metadata": {},
   "source": [
    "### Persistent homology of centroids of clusters on Torus"
   ]
  },
  {
   "cell_type": "code",
   "execution_count": 36,
   "id": "b65f5eb9",
   "metadata": {},
   "outputs": [
    {
     "data": {
      "image/png": "[encoded data removed]",
      "text/plain": [
       "<Figure size 640x480 with 1 Axes>"
      ]
     },
     "metadata": {},
     "output_type": "display_data"
    }
   ],
   "source": [
    "_, PH_diagram_torus_centroids = get_persistence_diagram(set_of_centroids_torus, 2)"
   ]
  },
  {
   "cell_type": "markdown",
   "id": "0654207c",
   "metadata": {},
   "source": [
    "### comparision of persistent homology with same number of random points from the point cloud of Torus\n"
   ]
  },
  {
   "cell_type": "code",
   "execution_count": 37,
   "id": "f6070a8a",
   "metadata": {},
   "outputs": [],
   "source": [
    "random_pts_torus = random_sampling_from_pt_cloud(point_data_torus, 1000)"
   ]
  },
  {
   "cell_type": "code",
   "execution_count": null,
   "id": "7c037bf2",
   "metadata": {},
   "outputs": [],
   "source": [
    "_, PH_diagram_torus_rand_pts = get_persistence_diagram(random_pts_torus, 2)"
   ]
  },
  {
   "cell_type": "code",
   "execution_count": null,
   "id": "a5c45077",
   "metadata": {},
   "outputs": [],
   "source": []
  },
  {
   "cell_type": "markdown",
   "id": "1e23d2ab",
   "metadata": {},
   "source": [
    "### Persistent homology of 6d sphere of same number of points"
   ]
  },
  {
   "cell_type": "code",
   "execution_count": null,
   "id": "61f82c9d",
   "metadata": {},
   "outputs": [],
   "source": [
    "x, y, z, u, v, w = sp.symbols('x y z u v w')\n",
    "expr_6d_sp = x**2 + y**2 + z**2 + u**2 + v**2 + w**2 - 1\n",
    "poly_6d_sp = sp.Poly(expr_6d_sp, x, y, z, u, v, w)"
   ]
  },
  {
   "cell_type": "code",
   "execution_count": null,
   "id": "52341085",
   "metadata": {},
   "outputs": [],
   "source": [
    "expr_6d_sp"
   ]
  },
  {
   "cell_type": "code",
   "execution_count": null,
   "id": "266cb92e",
   "metadata": {},
   "outputs": [],
   "source": [
    "# convert sympy polynomial to minyterpy polynomial\n",
    "newt_poly_6d_sp = sympy_to_mp(poly_6d_sp, mp.NewtonPolynomial)"
   ]
  },
  {
   "cell_type": "code",
   "execution_count": null,
   "id": "a91664ef",
   "metadata": {},
   "outputs": [],
   "source": [
    "newt_poly_6d_sp"
   ]
  },
  {
   "cell_type": "code",
   "execution_count": null,
   "id": "c8daefe7",
   "metadata": {},
   "outputs": [],
   "source": [
    "#sample points\n",
    "point_data_6d_sp = sample_points_on_poly_multidim(1000,        # Number of points to be sampled\n",
    "                                                   6,          #dimension of the space\n",
    "                                                newt_poly_6d_sp,  # Polynomial in Newton basis\n",
    "                                                bounds=1.0, # Boundary of the Cubic domain to be sampled\n",
    "                                                tol=1e-15)  # Tolerance in solution"
   ]
  },
  {
   "cell_type": "code",
   "execution_count": null,
   "id": "4b306528",
   "metadata": {},
   "outputs": [],
   "source": [
    "point_data_6d_sp.shape"
   ]
  },
  {
   "cell_type": "code",
   "execution_count": null,
   "id": "3a395b49",
   "metadata": {},
   "outputs": [],
   "source": [
    "#_, PH_diagram_6d_sphere = get_persistence_diagram(point_data_6d_sp, 2)  # not working"
   ]
  },
  {
   "cell_type": "code",
   "execution_count": null,
   "id": "e5eb65ac",
   "metadata": {},
   "outputs": [],
   "source": [
    "### Clustering of 6d sphere"
   ]
  },
  {
   "cell_type": "code",
   "execution_count": null,
   "id": "facfed2b",
   "metadata": {},
   "outputs": [],
   "source": [
    "_, _, clustered_data_6d_sphere = get_clustered_batches_6d(point_data_6d_sp, 200,100)"
   ]
  },
  {
   "cell_type": "code",
   "execution_count": null,
   "id": "91f67cbf",
   "metadata": {},
   "outputs": [],
   "source": [
    "clustered_data_6d_sphere.shape"
   ]
  },
  {
   "cell_type": "code",
   "execution_count": null,
   "id": "396d25fc",
   "metadata": {},
   "outputs": [],
   "source": [
    "set_of_barycenters_6d_sphere = get_set_of_barycenters_6d(clustered_data_6d_sphere)"
   ]
  },
  {
   "cell_type": "code",
   "execution_count": null,
   "id": "44ece80a",
   "metadata": {},
   "outputs": [],
   "source": [
    "set_of_barycenters_6d_sphere.shape"
   ]
  },
  {
   "cell_type": "code",
   "execution_count": null,
   "id": "f81fb565",
   "metadata": {},
   "outputs": [],
   "source": [
    "_, PH_diagram_6d_sphere_centroids = get_persistence_diagram(set_of_barycenters_6d_sphere, 2)  # not working"
   ]
  },
  {
   "cell_type": "markdown",
   "id": "e88f6908",
   "metadata": {},
   "source": [
    "# 3 d ellipsoid"
   ]
  },
  {
   "cell_type": "code",
   "execution_count": null,
   "id": "ced9cfed",
   "metadata": {},
   "outputs": [],
   "source": [
    "## Ellipsoid\n",
    "a = 0.2\n",
    "b = 0.5\n",
    "c = 1.0\n",
    "expr_ellipsoid = (x**2/a**2) + (y**2/b**2) + (z**2/c**2) - 1\n"
   ]
  },
  {
   "cell_type": "code",
   "execution_count": null,
   "id": "b7b17475",
   "metadata": {},
   "outputs": [],
   "source": [
    "poly_ellipsoid = sp.Poly(expr_ellipsoid, x, y, z)\n"
   ]
  },
  {
   "cell_type": "code",
   "execution_count": null,
   "id": "ea9b4236",
   "metadata": {},
   "outputs": [],
   "source": [
    "#monomial by monomial\n",
    "\n",
    "sp.expand(expr_ellipsoid)"
   ]
  },
  {
   "cell_type": "code",
   "execution_count": null,
   "id": "691bd997",
   "metadata": {},
   "outputs": [],
   "source": [
    "# convert sympy polynomial to minterpy polynomial\n",
    "\n",
    "newt_poly_ellipsoid = sympy_to_mp(poly_ellipsoid, mp.NewtonPolynomial)"
   ]
  },
  {
   "cell_type": "code",
   "execution_count": null,
   "id": "81c41571",
   "metadata": {},
   "outputs": [],
   "source": [
    "point_data_ellipsoid = sample_points_on_poly(10000,        # Number of points to be sampled\n",
    "                                   newt_poly_ellipsoid,  # Polynomial in Newton basis\n",
    "                                   bounds=1.0, # Boundary of the Cubic domain to be sampled\n",
    "                                   tol=1e-15)  # Tolerance in solution"
   ]
  },
  {
   "cell_type": "code",
   "execution_count": null,
   "id": "efd37de0",
   "metadata": {},
   "outputs": [],
   "source": [
    "point_data_ellipsoid.shape"
   ]
  },
  {
   "cell_type": "code",
   "execution_count": null,
   "id": "3d5a53f5",
   "metadata": {},
   "outputs": [],
   "source": [
    "x_el = point_data_ellipsoid[:,0]\n",
    "\n",
    "y_el = point_data_ellipsoid[:,1]\n",
    "\n",
    "z_el = point_data_ellipsoid[:,2]\n",
    "\n",
    "plot_points = [x_el,y_el,z_el]\n",
    "Points(plot_points).show(axes=1)"
   ]
  },
  {
   "cell_type": "markdown",
   "id": "55214943",
   "metadata": {},
   "source": [
    "# Cluster formation"
   ]
  },
  {
   "cell_type": "code",
   "execution_count": null,
   "id": "3de3ca9b",
   "metadata": {},
   "outputs": [],
   "source": [
    "#only to get a visualization\n",
    "\n",
    "_, _, clusters_on_ellipsoid = get_clustered_batches(point_data_ellipsoid, 100,50)"
   ]
  },
  {
   "cell_type": "code",
   "execution_count": null,
   "id": "1b34d302",
   "metadata": {},
   "outputs": [],
   "source": [
    "clusters_on_ellipsoid.shape"
   ]
  },
  {
   "cell_type": "code",
   "execution_count": null,
   "id": "656fa953",
   "metadata": {},
   "outputs": [],
   "source": [
    "clusters_mix_ellipsoid = clusters_on_ellipsoid.reshape(clusters_on_ellipsoid.shape[0]*clusters_on_ellipsoid.shape[1],3)\n",
    "\n",
    "\n",
    "\n",
    "x_el_cl = clusters_mix_ellipsoid[:,0]\n",
    "\n",
    "y_el_cl = clusters_mix_ellipsoid[:,1]\n",
    "\n",
    "z_el_cl = clusters_mix_ellipsoid[:,2]\n",
    "\n",
    "plot_points = [x_el_cl,y_el_cl,z_el_cl]\n",
    "Points(plot_points).show(axes=1)"
   ]
  },
  {
   "cell_type": "markdown",
   "id": "89a87874",
   "metadata": {},
   "source": [
    "# sampling the centroids"
   ]
  },
  {
   "cell_type": "code",
   "execution_count": null,
   "id": "b5446806",
   "metadata": {},
   "outputs": [],
   "source": [
    "_, _, clustered_data_ellipsoid = get_clustered_batches(point_data_ellipsoid, 1000,100)\n"
   ]
  },
  {
   "cell_type": "code",
   "execution_count": null,
   "id": "1b5f7557",
   "metadata": {},
   "outputs": [],
   "source": [
    "clustered_data_ellipsoid.shape"
   ]
  },
  {
   "cell_type": "code",
   "execution_count": null,
   "id": "feaca969",
   "metadata": {},
   "outputs": [],
   "source": [
    "set_of_barycenters_ellipsoid = get_set_of_barycenters(clustered_data_ellipsoid)"
   ]
  },
  {
   "cell_type": "code",
   "execution_count": null,
   "id": "e2a8fb5e",
   "metadata": {},
   "outputs": [],
   "source": [
    "set_of_barycenters_ellipsoid.shape"
   ]
  },
  {
   "cell_type": "code",
   "execution_count": null,
   "id": "19560896",
   "metadata": {},
   "outputs": [],
   "source": [
    "plot_points = [set_of_barycenters_ellipsoid[:,0],set_of_barycenters_ellipsoid[:,1],set_of_barycenters_ellipsoid[:,2]]\n",
    "Points(plot_points).show(axes=1)"
   ]
  },
  {
   "cell_type": "markdown",
   "id": "c46cabfd",
   "metadata": {},
   "source": [
    "# Persistent homology of ellipsoid centroids"
   ]
  },
  {
   "cell_type": "code",
   "execution_count": null,
   "id": "da5bc33a",
   "metadata": {},
   "outputs": [],
   "source": [
    "_,PH_diagram_ellipsoid_barycenters = get_persistence_diagram(set_of_barycenters_ellipsoid, 2)"
   ]
  },
  {
   "cell_type": "markdown",
   "id": "52d58797",
   "metadata": {},
   "source": [
    "### comparision with random points from the point cloud of Torus\n"
   ]
  },
  {
   "cell_type": "code",
   "execution_count": null,
   "id": "b64522b2",
   "metadata": {},
   "outputs": [],
   "source": [
    "random_pts_ellipsoid = random_sampling_from_pt_cloud(point_data_ellipsoid, 1000)"
   ]
  },
  {
   "cell_type": "code",
   "execution_count": null,
   "id": "b2be80fa",
   "metadata": {},
   "outputs": [],
   "source": [
    "_, PH_diagram_rand_pts_ellipsoid = get_persistence_diagram(random_pts_ellipsoid, 2)"
   ]
  },
  {
   "cell_type": "code",
   "execution_count": null,
   "id": "df891217",
   "metadata": {},
   "outputs": [],
   "source": []
  },
  {
   "cell_type": "markdown",
   "id": "ccf8e1a4",
   "metadata": {},
   "source": [
    "# Biconcave disc"
   ]
  },
  {
   "cell_type": "code",
   "execution_count": null,
   "id": "4943a67e",
   "metadata": {},
   "outputs": [],
   "source": [
    "d = 0.5\n",
    "c = 0.5\n",
    "expr_disc = (d**2 + x**2 + y**2 + z**2)**3 - 8*d**2 * (y**2 + z**2) - c**4"
   ]
  },
  {
   "cell_type": "code",
   "execution_count": null,
   "id": "cb872a4b",
   "metadata": {},
   "outputs": [],
   "source": [
    "poly_disc = sp.Poly(expr_disc, x, y, z)"
   ]
  },
  {
   "cell_type": "code",
   "execution_count": null,
   "id": "8a3adad4",
   "metadata": {},
   "outputs": [],
   "source": [
    "expr_disc"
   ]
  },
  {
   "cell_type": "code",
   "execution_count": null,
   "id": "0e322685",
   "metadata": {},
   "outputs": [],
   "source": [
    "sp.expand(expr_disc)"
   ]
  },
  {
   "cell_type": "code",
   "execution_count": null,
   "id": "2e983664",
   "metadata": {},
   "outputs": [],
   "source": [
    "newt_poly_disc = sympy_to_mp(poly_disc, mp.NewtonPolynomial)"
   ]
  },
  {
   "cell_type": "code",
   "execution_count": null,
   "id": "1fcc229e",
   "metadata": {},
   "outputs": [],
   "source": [
    "point_data_disc = sample_points_on_poly(10000,        # Number of points to be sampled\n",
    "                                   newt_poly_disc,  # Polynomial in Newton basis\n",
    "                                   bounds=1.0, # Boundary of the Cubic domain to be sampled\n",
    "                                   tol=1e-15)  # Tolerance in solution"
   ]
  },
  {
   "cell_type": "code",
   "execution_count": null,
   "id": "c8528322",
   "metadata": {},
   "outputs": [],
   "source": [
    "point_data_disc.shape"
   ]
  },
  {
   "cell_type": "code",
   "execution_count": null,
   "id": "abf4cbc5",
   "metadata": {},
   "outputs": [],
   "source": [
    "plot_points = [point_data_disc[:,0],point_data_disc[:,1],point_data_disc[:,2]]\n",
    "Points(plot_points).show(axes=1)"
   ]
  },
  {
   "cell_type": "markdown",
   "id": "39b45c6e",
   "metadata": {},
   "source": [
    "### clustering"
   ]
  },
  {
   "cell_type": "code",
   "execution_count": null,
   "id": "0283594d",
   "metadata": {},
   "outputs": [],
   "source": [
    "#visualizing clusters on disc\n",
    "\n",
    "_, _, clustered_data_disc = get_clustered_batches(point_data_disc, 100,50)\n"
   ]
  },
  {
   "cell_type": "code",
   "execution_count": null,
   "id": "656c7948",
   "metadata": {},
   "outputs": [],
   "source": [
    "clusters_mix_disc = clustered_data_disc.reshape(clustered_data_disc.shape[0]*clustered_data_disc.shape[1],3)\n",
    "\n",
    "\n",
    "\n",
    "x_el_cl = clusters_mix_disc[:,0]\n",
    "\n",
    "y_el_cl = clusters_mix_disc[:,1]\n",
    "\n",
    "z_el_cl = clusters_mix_disc[:,2]\n",
    "\n",
    "plot_points = [x_el_cl,y_el_cl,z_el_cl]\n",
    "Points(plot_points).show(axes=1)"
   ]
  },
  {
   "cell_type": "markdown",
   "id": "87b8e02a",
   "metadata": {},
   "source": [
    "### Sampling of centroids"
   ]
  },
  {
   "cell_type": "code",
   "execution_count": null,
   "id": "85a0b97d",
   "metadata": {},
   "outputs": [],
   "source": [
    "_, _, clustered_data_disc = get_clustered_batches(point_data_disc, 1000,100)\n"
   ]
  },
  {
   "cell_type": "code",
   "execution_count": null,
   "id": "ddebd32d",
   "metadata": {},
   "outputs": [],
   "source": [
    "clustered_data_disc.shape"
   ]
  },
  {
   "cell_type": "code",
   "execution_count": null,
   "id": "4b361e40",
   "metadata": {},
   "outputs": [],
   "source": [
    "set_of_barycenters_disc = get_set_of_barycenters(clustered_data_disc)"
   ]
  },
  {
   "cell_type": "code",
   "execution_count": null,
   "id": "67ac1563",
   "metadata": {},
   "outputs": [],
   "source": [
    "plot_points = [set_of_barycenters_disc[:,0],set_of_barycenters_disc[:,1],set_of_barycenters_disc[:,2]]\n",
    "Points(plot_points).show(axes=1)"
   ]
  },
  {
   "cell_type": "markdown",
   "id": "d300c9bd",
   "metadata": {},
   "source": [
    "# Persistent homology of disc centroids"
   ]
  },
  {
   "cell_type": "code",
   "execution_count": null,
   "id": "5837e685",
   "metadata": {},
   "outputs": [],
   "source": [
    "_,PH_diagram_disc_centroids = get_persistence_diagram(set_of_barycenters_disc, 2)"
   ]
  },
  {
   "cell_type": "markdown",
   "id": "91dc155d",
   "metadata": {},
   "source": [
    "### comparision of Persistent homology with same number of random points from the disc point cloud"
   ]
  },
  {
   "cell_type": "code",
   "execution_count": null,
   "id": "917b315a",
   "metadata": {},
   "outputs": [],
   "source": [
    "random_pts_disc = random_sampling_from_pt_cloud(point_data_ellipsoid, 1000)"
   ]
  },
  {
   "cell_type": "code",
   "execution_count": null,
   "id": "780338cc",
   "metadata": {},
   "outputs": [],
   "source": [
    "_, PH_diagram_rand_pts_ellipsoid = get_persistence_diagram(random_pts_disc, 2)"
   ]
  },
  {
   "cell_type": "code",
   "execution_count": null,
   "id": "87bf012b",
   "metadata": {},
   "outputs": [],
   "source": []
  },
  {
   "cell_type": "code",
   "execution_count": null,
   "id": "fc9a1ab5",
   "metadata": {},
   "outputs": [],
   "source": []
  },
  {
   "cell_type": "code",
   "execution_count": null,
   "id": "bb495a29",
   "metadata": {},
   "outputs": [],
   "source": []
  },
  {
   "cell_type": "code",
   "execution_count": null,
   "id": "5d38fc77",
   "metadata": {},
   "outputs": [],
   "source": []
  },
  {
   "cell_type": "markdown",
   "id": "c1621f29",
   "metadata": {},
   "source": [
    "### plotting clusters"
   ]
  },
  {
   "cell_type": "code",
   "execution_count": null,
   "id": "755a7118",
   "metadata": {},
   "outputs": [],
   "source": []
  },
  {
   "cell_type": "code",
   "execution_count": null,
   "id": "932bd395",
   "metadata": {},
   "outputs": [],
   "source": [
    "### get c"
   ]
  },
  {
   "cell_type": "code",
   "execution_count": null,
   "id": "a22bb3fe",
   "metadata": {},
   "outputs": [],
   "source": [
    "set_of_barycenters_disc = get_set_of_barycenters(clustered_data_disc)"
   ]
  },
  {
   "cell_type": "code",
   "execution_count": null,
   "id": "7a33deb4",
   "metadata": {},
   "outputs": [],
   "source": []
  }
 ],
 "metadata": {
  "kernelspec": {
   "display_name": "Python 3 (ipykernel)",
   "language": "python",
   "name": "python3"
  },
  "language_info": {
   "codemirror_mode": {
    "name": "ipython",
    "version": 3
   },
   "file_extension": ".py",
   "mimetype": "text/x-python",
   "name": "python",
   "nbconvert_exporter": "python",
   "pygments_lexer": "ipython3",
   "version": "3.9.7"
  }
 },
 "nbformat": 4,
 "nbformat_minor": 5
}
